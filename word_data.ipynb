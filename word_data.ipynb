{
 "cells": [
  {
   "cell_type": "code",
   "execution_count": 26,
   "metadata": {},
   "outputs": [],
   "source": [
    "import nltk\n",
    "from nltk.corpus import words\n",
    "import random\n",
    "import string"
   ]
  },
  {
   "cell_type": "markdown",
   "metadata": {},
   "source": [
    "## Get list of vocabulary from english-words repo\n",
    "https://github.com/dolph/dictionary"
   ]
  },
  {
   "cell_type": "code",
   "execution_count": 2,
   "metadata": {},
   "outputs": [],
   "source": [
    "def shuffle_consonants(word):\n",
    "    ##This is for advanced incorrect words where the vowel is in place and constant is shuffled to look similar to the original word\n",
    "    vowels = \"aeiouAEIOU\"\n",
    "    \n",
    "    # List to store the vowels' positions and the consonants\n",
    "    vowel_positions = [i for i, char in enumerate(word) if char in vowels]\n",
    "    consonants = [char for char in word if char not in vowels]\n",
    "    \n",
    "    # Shuffle the consonants\n",
    "    random.shuffle(consonants)\n",
    "    \n",
    "    # Convert the word to a list of characters so we can modify it\n",
    "    word_list = list(word)\n",
    "    \n",
    "    # Place the consonants back in the positions of the consonants\n",
    "    consonant_index = 0\n",
    "    for i in range(len(word_list)):\n",
    "        if i not in vowel_positions:\n",
    "            word_list[i] = consonants[consonant_index]\n",
    "            consonant_index += 1\n",
    "    \n",
    "    # Join the list back into a string and return\n",
    "    return ''.join(word_list)\n",
    "\n"
   ]
  },
  {
   "cell_type": "code",
   "execution_count": 27,
   "metadata": {},
   "outputs": [],
   "source": [
    "def change_last(word):\n",
    "    ##This is for advanced incorrect words where the vowel is in place and constant is shuffled to look similar to the original word\n",
    "    word_list = []\n",
    "    for i in range(5):\n",
    "        if i != 4:\n",
    "            word_list.append(word[i])\n",
    "        else: \n",
    "            alphabet = string.ascii_lowercase\n",
    "            random_char = random.choice(alphabet)\n",
    "            word_list.append(random_char)\n",
    "    return \"\".join(word_list)\n",
    "\n"
   ]
  },
  {
   "cell_type": "code",
   "execution_count": 28,
   "metadata": {},
   "outputs": [],
   "source": [
    "# Load in popular english words\n",
    "with open('popular.txt', 'r') as file:\n",
    "    words = file.readlines()\n",
    "\n",
    "five_letter_words = []\n",
    "shuffled_letters = []\n",
    "shuffle_advance = []\n",
    "shuffle_trick = []\n",
    "for word in words:\n",
    "    #Get the word that is only letters and length 5\n",
    "    if (len(word.strip()) == 5) & (word.strip().isalpha()):\n",
    "        vocab = word.strip().lower()\n",
    "        five_letter_words.append(vocab)\n",
    "\n",
    "        ##Create a shuffled characters for incorrect data\n",
    "        char_list = list(vocab)\n",
    "        random.shuffle(char_list)\n",
    "        shuffled_word = ''.join(char_list)\n",
    "        shuffled_letters.append(shuffled_word)\n",
    "\n",
    "        shuffle_advance.append(shuffle_consonants(vocab))\n",
    "\n",
    "        shuffle_trick.append(change_last(vocab))\n",
    "\n",
    "five_letter_words = set(five_letter_words)\n",
    "shuffled_letters = set(shuffled_letters)\n",
    "shuffle_advance = set(shuffle_advance)\n",
    "\n",
    "##In case that shuffled letters became the vocabulary\n",
    "shuffled_letters = shuffled_letters - five_letter_words\n",
    "shuffle_advance = shuffle_advance - five_letter_words\n"
   ]
  },
  {
   "cell_type": "code",
   "execution_count": 29,
   "metadata": {},
   "outputs": [
    {
     "data": {
      "text/plain": [
       "3088"
      ]
     },
     "execution_count": 29,
     "metadata": {},
     "output_type": "execute_result"
    }
   ],
   "source": [
    "len(five_letter_words)"
   ]
  },
  {
   "cell_type": "code",
   "execution_count": 30,
   "metadata": {},
   "outputs": [],
   "source": [
    "with open('correct.txt', 'w') as file:\n",
    "    for word in five_letter_words:\n",
    "        file.write(f\"{word}\\n\")"
   ]
  },
  {
   "cell_type": "code",
   "execution_count": 31,
   "metadata": {},
   "outputs": [],
   "source": [
    "with open('incorrect.txt', 'w') as file:\n",
    "    for word in shuffled_letters:\n",
    "        file.write(f\"{word}\\n\")"
   ]
  },
  {
   "cell_type": "code",
   "execution_count": 32,
   "metadata": {},
   "outputs": [],
   "source": [
    "with open('incorrect_advance.txt', 'w') as file:\n",
    "    for word in shuffle_advance:\n",
    "        file.write(f\"{word}\\n\")"
   ]
  },
  {
   "cell_type": "code",
   "execution_count": 33,
   "metadata": {},
   "outputs": [],
   "source": [
    "with open('incorrect_trick.txt', 'w') as file:\n",
    "    for word in shuffle_trick:\n",
    "        file.write(f\"{word}\\n\")"
   ]
  },
  {
   "cell_type": "code",
   "execution_count": null,
   "metadata": {},
   "outputs": [],
   "source": []
  }
 ],
 "metadata": {
  "kernelspec": {
   "display_name": "base",
   "language": "python",
   "name": "python3"
  },
  "language_info": {
   "codemirror_mode": {
    "name": "ipython",
    "version": 3
   },
   "file_extension": ".py",
   "mimetype": "text/x-python",
   "name": "python",
   "nbconvert_exporter": "python",
   "pygments_lexer": "ipython3",
   "version": "3.11.5"
  }
 },
 "nbformat": 4,
 "nbformat_minor": 2
}
