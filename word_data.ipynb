{
 "cells": [
  {
   "cell_type": "code",
   "execution_count": 1,
   "metadata": {},
   "outputs": [],
   "source": [
    "import nltk\n",
    "from nltk.corpus import words\n",
    "import random\n"
   ]
  },
  {
   "cell_type": "markdown",
   "metadata": {},
   "source": [
    "## Get list of vocabulary from english-words repo\n",
    "https://github.com/dolph/dictionary"
   ]
  },
  {
   "cell_type": "code",
   "execution_count": 2,
   "metadata": {},
   "outputs": [],
   "source": [
    "def shuffle_consonants(word):\n",
    "    ##This is for advanced incorrect words where the vowel is in place and constant is shuffled to look similar to the original word\n",
    "    vowels = \"aeiouAEIOU\"\n",
    "    \n",
    "    # List to store the vowels' positions and the consonants\n",
    "    vowel_positions = [i for i, char in enumerate(word) if char in vowels]\n",
    "    consonants = [char for char in word if char not in vowels]\n",
    "    \n",
    "    # Shuffle the consonants\n",
    "    random.shuffle(consonants)\n",
    "    \n",
    "    # Convert the word to a list of characters so we can modify it\n",
    "    word_list = list(word)\n",
    "    \n",
    "    # Place the consonants back in the positions of the consonants\n",
    "    consonant_index = 0\n",
    "    for i in range(len(word_list)):\n",
    "        if i not in vowel_positions:\n",
    "            word_list[i] = consonants[consonant_index]\n",
    "            consonant_index += 1\n",
    "    \n",
    "    # Join the list back into a string and return\n",
    "    return ''.join(word_list)\n",
    "\n"
   ]
  },
  {
   "cell_type": "code",
   "execution_count": 3,
   "metadata": {},
   "outputs": [],
   "source": [
    "# Load the Scrabble word list (assuming 'words.txt' is in the current directory)\n",
    "with open('popular.txt', 'r') as file:\n",
    "    words = file.readlines()\n",
    "\n",
    "# Strip newlines and filter for words with exactly 5 characters\n",
    "five_letter_words = []\n",
    "shuffled_letters = []\n",
    "shuffle_advance = []\n",
    "for word in words:\n",
    "    if (len(word.strip()) == 5) & (word.strip().isalpha()):\n",
    "        vocab = word.strip().lower()\n",
    "        five_letter_words.append(vocab)\n",
    "\n",
    "        ##Create a shuffled characters\n",
    "        char_list = list(vocab)\n",
    "        random.shuffle(char_list)\n",
    "        shuffled_word = ''.join(char_list)\n",
    "        shuffled_letters.append(shuffled_word)\n",
    "\n",
    "        shuffle_advance.append(shuffle_consonants(vocab))\n",
    "\n",
    "five_letter_words = set(five_letter_words)\n",
    "shuffled_letters = set(shuffled_letters)\n",
    "shuffle_advance = set(shuffle_advance)\n",
    "\n",
    "##In case that shuffled letters became the vocabulary\n",
    "shuffled_letters = shuffled_letters - five_letter_words\n",
    "shuffle_advance = shuffle_advance - five_letter_words\n"
   ]
  },
  {
   "cell_type": "code",
   "execution_count": 8,
   "metadata": {},
   "outputs": [],
   "source": [
    "with open('correct.txt', 'w') as file:\n",
    "    for word in five_letter_words:\n",
    "        file.write(f\"{word}\\n\")"
   ]
  },
  {
   "cell_type": "code",
   "execution_count": 9,
   "metadata": {},
   "outputs": [],
   "source": [
    "with open('incorrect.txt', 'w') as file:\n",
    "    for word in shuffled_letters:\n",
    "        file.write(f\"{word}\\n\")"
   ]
  },
  {
   "cell_type": "code",
   "execution_count": 10,
   "metadata": {},
   "outputs": [],
   "source": [
    "with open('incorrect_advance.txt', 'w') as file:\n",
    "    for word in shuffle_advance:\n",
    "        file.write(f\"{word}\\n\")"
   ]
  },
  {
   "cell_type": "code",
   "execution_count": null,
   "metadata": {},
   "outputs": [],
   "source": []
  }
 ],
 "metadata": {
  "kernelspec": {
   "display_name": "base",
   "language": "python",
   "name": "python3"
  },
  "language_info": {
   "codemirror_mode": {
    "name": "ipython",
    "version": 3
   },
   "file_extension": ".py",
   "mimetype": "text/x-python",
   "name": "python",
   "nbconvert_exporter": "python",
   "pygments_lexer": "ipython3",
   "version": "3.11.5"
  }
 },
 "nbformat": 4,
 "nbformat_minor": 2
}
