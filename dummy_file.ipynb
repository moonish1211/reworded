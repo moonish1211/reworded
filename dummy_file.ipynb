{
 "cells": [
  {
   "cell_type": "markdown",
   "metadata": {},
   "source": [
    "## Import Libraries"
   ]
  },
  {
   "cell_type": "code",
   "execution_count": 2,
   "metadata": {},
   "outputs": [],
   "source": [
    "import numpy as np\n",
    "import pandas as pd\n",
    "import json\n",
    "import matplotlib.pyplot as plt\n",
    "from scipy.signal import butter, filtfilt\n",
    "from sklearn.model_selection import train_test_split\n",
    "from sklearn.svm import SVC\n",
    "from sklearn.ensemble import RandomForestClassifier\n",
    "from sklearn.neural_network import MLPClassifier\n",
    "from sklearn.metrics import classification_report, confusion_matrix"
   ]
  },
  {
   "cell_type": "markdown",
   "metadata": {},
   "source": [
    "## Load CSV Files and Parse EEG Data"
   ]
  },
  {
   "cell_type": "code",
   "execution_count": null,
   "metadata": {},
   "outputs": [],
   "source": [
    "##"
   ]
  },
  {
   "cell_type": "markdown",
   "metadata": {},
   "source": [
    "## Extract EEG Signal (For P3 and T5 Channels)"
   ]
  },
  {
   "cell_type": "code",
   "execution_count": null,
   "metadata": {},
   "outputs": [],
   "source": [
    "##"
   ]
  },
  {
   "cell_type": "markdown",
   "metadata": {},
   "source": [
    "## Filter EEG Data (Bandpass 0.1-30 Hz (or whatever you guys think))"
   ]
  },
  {
   "cell_type": "code",
   "execution_count": null,
   "metadata": {},
   "outputs": [],
   "source": [
    "def bandpass_filter(signal, lowcut=0.1, highcut=30, fs=250, order=4):\n",
    "    nyquist = 0.5 * fs\n",
    "    low = lowcut / nyquist\n",
    "    high = highcut / nyquist\n",
    "    b, a = butter(order, [low, high], btype=\"band\")\n",
    "    return filtfilt(b, a, signal)\n",
    "\n",
    "p3_filtered = [bandpass_filter(trial) for trial in p3_data]\n",
    "t5_filtered = [bandpass_filter(trial) for trial in t5_data]"
   ]
  },
  {
   "cell_type": "markdown",
   "metadata": {},
   "source": [
    "## Extract N400 Features (Peak amplitude, Latency, Mean Voltage in 300-500 Ms (Or whatever you guys think))"
   ]
  },
  {
   "cell_type": "code",
   "execution_count": null,
   "metadata": {},
   "outputs": [],
   "source": [
    "def extract_n400_features(eeg_trial, sampling_rate=250):\n",
    "    start_idx = int(0.3 * sampling_rate)  # 300 ms\n",
    "    end_idx = int(0.5 * sampling_rate)    # 500 ms\n",
    "    n400_window = eeg_trial[start_idx:end_idx]\n",
    "    peak_amplitude = min(n400_window)  # N400 is a negative peak\n",
    "    latency = start_idx + np.argmin(n400_window)  # Index of peak\n",
    "    mean_voltage = np.mean(n400_window)\n",
    "    return peak_amplitude, latency, mean_voltage\n",
    "\n",
    "n400_features = [extract_n400_features(trial) for trial in p3_filtered]"
   ]
  },
  {
   "cell_type": "markdown",
   "metadata": {},
   "source": [
    "## Create Dataframe for Classification"
   ]
  },
  {
   "cell_type": "code",
   "execution_count": null,
   "metadata": {},
   "outputs": [],
   "source": [
    "##"
   ]
  },
  {
   "cell_type": "markdown",
   "metadata": {},
   "source": [
    "## Train and Evaluate Machine Learning Models (SVM, RF, ANN)"
   ]
  },
  {
   "cell_type": "code",
   "execution_count": null,
   "metadata": {},
   "outputs": [],
   "source": [
    "X_train, X_test, y_train, y_test = train_test_split(n400_df.drop(columns=[\"Label\"]), n400_df[\"Label\"], test_size=0.2)\n",
    "\n",
    "# SVM Model\n",
    "svm_model = SVC(kernel=\"rbf\")\n",
    "svm_model.fit(X_train, y_train)\n",
    "y_pred_svm = svm_model.predict(X_test)\n",
    "\n",
    "# Random Forest Model\n",
    "rf_model = RandomForestClassifier(n_estimators=100)\n",
    "rf_model.fit(X_train, y_train)\n",
    "y_pred_rf = rf_model.predict(X_test)\n",
    "\n",
    "# ANN Model\n",
    "ann_model = MLPClassifier(hidden_layer_sizes=(10,10), max_iter=500)\n",
    "ann_model.fit(X_train, y_train)\n",
    "y_pred_ann = ann_model.predict(X_test)\n",
    "\n",
    "# Print classification results\n",
    "print(\"SVM Report:\\n\", classification_report(y_test, y_pred_svm))\n",
    "print(\"Random Forest Report:\\n\", classification_report(y_test, y_pred_rf))\n",
    "print(\"ANN Report:\\n\", classification_report(y_test, y_pred_ann))"
   ]
  }
 ],
 "metadata": {
  "kernelspec": {
   "display_name": "base",
   "language": "python",
   "name": "python3"
  },
  "language_info": {
   "codemirror_mode": {
    "name": "ipython",
    "version": 3
   },
   "file_extension": ".py",
   "mimetype": "text/x-python",
   "name": "python",
   "nbconvert_exporter": "python",
   "pygments_lexer": "ipython3",
   "version": "3.12.4"
  }
 },
 "nbformat": 4,
 "nbformat_minor": 2
}
