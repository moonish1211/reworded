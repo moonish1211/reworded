{
 "cells": [
  {
   "cell_type": "code",
   "execution_count": 5,
   "metadata": {},
   "outputs": [],
   "source": [
    "import pandas as pd"
   ]
  },
  {
   "cell_type": "code",
   "execution_count": 8,
   "metadata": {},
   "outputs": [],
   "source": [
    "df = pd.read_csv(\"openbci_data.csv\")"
   ]
  },
  {
   "cell_type": "code",
   "execution_count": 9,
   "metadata": {},
   "outputs": [
    {
     "data": {
      "text/html": [
       "<div>\n",
       "<style scoped>\n",
       "    .dataframe tbody tr th:only-of-type {\n",
       "        vertical-align: middle;\n",
       "    }\n",
       "\n",
       "    .dataframe tbody tr th {\n",
       "        vertical-align: top;\n",
       "    }\n",
       "\n",
       "    .dataframe thead th {\n",
       "        text-align: right;\n",
       "    }\n",
       "</style>\n",
       "<table border=\"1\" class=\"dataframe\">\n",
       "  <thead>\n",
       "    <tr style=\"text-align: right;\">\n",
       "      <th></th>\n",
       "      <th>iteration</th>\n",
       "      <th>label</th>\n",
       "      <th>user_input</th>\n",
       "      <th>channel_0</th>\n",
       "      <th>channel_1</th>\n",
       "      <th>channel_2</th>\n",
       "      <th>channel_3</th>\n",
       "      <th>channel_4</th>\n",
       "      <th>channel_5</th>\n",
       "      <th>channel_6</th>\n",
       "      <th>channel_7</th>\n",
       "    </tr>\n",
       "  </thead>\n",
       "  <tbody>\n",
       "    <tr>\n",
       "      <th>0</th>\n",
       "      <td>1</td>\n",
       "      <td>1</td>\n",
       "      <td>0</td>\n",
       "      <td>[0.0, 1.0, 2.0, 3.0, 4.0, 5.0, 6.0, 7.0, 8.0, ...</td>\n",
       "      <td>[11.804312513217482, 13.460346060580271, 15.31...</td>\n",
       "      <td>[28.25111154561711, 34.06564906736516, 39.8096...</td>\n",
       "      <td>[47.901880350365786, 62.63233143042306, 66.746...</td>\n",
       "      <td>[72.70047490457164, 92.52057062888906, 97.6528...</td>\n",
       "      <td>[93.53919542047481, 106.41630768908499, 119.23...</td>\n",
       "      <td>[132.49116168516974, 163.5466826169615, 100.49...</td>\n",
       "      <td>[316.30529652048153, 313.00840918206256, 91.64...</td>\n",
       "    </tr>\n",
       "    <tr>\n",
       "      <th>1</th>\n",
       "      <td>3</td>\n",
       "      <td>0</td>\n",
       "      <td>0</td>\n",
       "      <td>[162.0, 163.0, 164.0, 165.0, 166.0, 167.0, 168...</td>\n",
       "      <td>[21.891307445234652, 20.764496717563464, 19.64...</td>\n",
       "      <td>[-6.843296358645119, -9.59551257454729, -9.038...</td>\n",
       "      <td>[40.60103907905396, 51.598755273129214, 68.571...</td>\n",
       "      <td>[81.80920428194655, 55.07715401975661, 23.5576...</td>\n",
       "      <td>[-20.226760663220958, -10.525059610262666, 17....</td>\n",
       "      <td>[93.04978703035113, 116.46607017860183, 132.20...</td>\n",
       "      <td>[106.77056342308065, 25.61224340480272, -22.43...</td>\n",
       "    </tr>\n",
       "  </tbody>\n",
       "</table>\n",
       "</div>"
      ],
      "text/plain": [
       "   iteration  label  user_input  \\\n",
       "0          1      1           0   \n",
       "1          3      0           0   \n",
       "\n",
       "                                           channel_0  \\\n",
       "0  [0.0, 1.0, 2.0, 3.0, 4.0, 5.0, 6.0, 7.0, 8.0, ...   \n",
       "1  [162.0, 163.0, 164.0, 165.0, 166.0, 167.0, 168...   \n",
       "\n",
       "                                           channel_1  \\\n",
       "0  [11.804312513217482, 13.460346060580271, 15.31...   \n",
       "1  [21.891307445234652, 20.764496717563464, 19.64...   \n",
       "\n",
       "                                           channel_2  \\\n",
       "0  [28.25111154561711, 34.06564906736516, 39.8096...   \n",
       "1  [-6.843296358645119, -9.59551257454729, -9.038...   \n",
       "\n",
       "                                           channel_3  \\\n",
       "0  [47.901880350365786, 62.63233143042306, 66.746...   \n",
       "1  [40.60103907905396, 51.598755273129214, 68.571...   \n",
       "\n",
       "                                           channel_4  \\\n",
       "0  [72.70047490457164, 92.52057062888906, 97.6528...   \n",
       "1  [81.80920428194655, 55.07715401975661, 23.5576...   \n",
       "\n",
       "                                           channel_5  \\\n",
       "0  [93.53919542047481, 106.41630768908499, 119.23...   \n",
       "1  [-20.226760663220958, -10.525059610262666, 17....   \n",
       "\n",
       "                                           channel_6  \\\n",
       "0  [132.49116168516974, 163.5466826169615, 100.49...   \n",
       "1  [93.04978703035113, 116.46607017860183, 132.20...   \n",
       "\n",
       "                                           channel_7  \n",
       "0  [316.30529652048153, 313.00840918206256, 91.64...  \n",
       "1  [106.77056342308065, 25.61224340480272, -22.43...  "
      ]
     },
     "execution_count": 9,
     "metadata": {},
     "output_type": "execute_result"
    }
   ],
   "source": [
    "df"
   ]
  },
  {
   "cell_type": "markdown",
   "metadata": {},
   "source": [
    "## Problem, skipping trial 2, 4, 5"
   ]
  },
  {
   "cell_type": "code",
   "execution_count": null,
   "metadata": {},
   "outputs": [],
   "source": []
  }
 ],
 "metadata": {
  "kernelspec": {
   "display_name": "base",
   "language": "python",
   "name": "python3"
  },
  "language_info": {
   "codemirror_mode": {
    "name": "ipython",
    "version": 3
   },
   "file_extension": ".py",
   "mimetype": "text/x-python",
   "name": "python",
   "nbconvert_exporter": "python",
   "pygments_lexer": "ipython3",
   "version": "3.11.5"
  }
 },
 "nbformat": 4,
 "nbformat_minor": 2
}
